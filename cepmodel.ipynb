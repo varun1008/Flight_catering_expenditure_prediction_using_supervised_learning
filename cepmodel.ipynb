{
 "cells": [
  {
   "cell_type": "markdown",
   "metadata": {},
   "source": [
    "<h1>Catering Expenditure Predictor</h1>"
   ]
  },
  {
   "cell_type": "code",
   "execution_count": 1,
   "metadata": {},
   "outputs": [],
   "source": [
    "import pandas as pd\n",
    "import matplotlib.pyplot as plt\n",
    "import seaborn as sns\n",
    "import numpy as np"
   ]
  },
  {
   "cell_type": "code",
   "execution_count": 6,
   "metadata": {},
   "outputs": [],
   "source": [
    "df = pd.read_csv('dataset.csv')"
   ]
  },
  {
   "cell_type": "code",
   "execution_count": 7,
   "metadata": {},
   "outputs": [
    {
     "data": {
      "text/html": [
       "<div>\n",
       "<style scoped>\n",
       "    .dataframe tbody tr th:only-of-type {\n",
       "        vertical-align: middle;\n",
       "    }\n",
       "\n",
       "    .dataframe tbody tr th {\n",
       "        vertical-align: top;\n",
       "    }\n",
       "\n",
       "    .dataframe thead th {\n",
       "        text-align: right;\n",
       "    }\n",
       "</style>\n",
       "<table border=\"1\" class=\"dataframe\">\n",
       "  <thead>\n",
       "    <tr style=\"text-align: right;\">\n",
       "      <th></th>\n",
       "      <th>No_of_pass</th>\n",
       "      <th>No_of_male_pass</th>\n",
       "      <th>No_of_female_pass</th>\n",
       "      <th>No_of_kids</th>\n",
       "      <th>No_of_non_veg_pass</th>\n",
       "      <th>Flight_duration</th>\n",
       "      <th>Day/Night_flight</th>\n",
       "      <th>No_of_business_class_pass</th>\n",
       "      <th>Catering_expenditure</th>\n",
       "    </tr>\n",
       "  </thead>\n",
       "  <tbody>\n",
       "    <tr>\n",
       "      <td>0</td>\n",
       "      <td>104</td>\n",
       "      <td>56</td>\n",
       "      <td>34</td>\n",
       "      <td>14</td>\n",
       "      <td>41</td>\n",
       "      <td>12</td>\n",
       "      <td>1</td>\n",
       "      <td>12</td>\n",
       "      <td>2352.0</td>\n",
       "    </tr>\n",
       "    <tr>\n",
       "      <td>1</td>\n",
       "      <td>163</td>\n",
       "      <td>106</td>\n",
       "      <td>41</td>\n",
       "      <td>16</td>\n",
       "      <td>97</td>\n",
       "      <td>13</td>\n",
       "      <td>0</td>\n",
       "      <td>35</td>\n",
       "      <td>2652.0</td>\n",
       "    </tr>\n",
       "    <tr>\n",
       "      <td>2</td>\n",
       "      <td>231</td>\n",
       "      <td>92</td>\n",
       "      <td>109</td>\n",
       "      <td>30</td>\n",
       "      <td>57</td>\n",
       "      <td>4</td>\n",
       "      <td>1</td>\n",
       "      <td>52</td>\n",
       "      <td>2547.0</td>\n",
       "    </tr>\n",
       "    <tr>\n",
       "      <td>3</td>\n",
       "      <td>91</td>\n",
       "      <td>61</td>\n",
       "      <td>10</td>\n",
       "      <td>20</td>\n",
       "      <td>80</td>\n",
       "      <td>7</td>\n",
       "      <td>0</td>\n",
       "      <td>18</td>\n",
       "      <td>1313.0</td>\n",
       "    </tr>\n",
       "    <tr>\n",
       "      <td>4</td>\n",
       "      <td>324</td>\n",
       "      <td>88</td>\n",
       "      <td>123</td>\n",
       "      <td>113</td>\n",
       "      <td>176</td>\n",
       "      <td>9</td>\n",
       "      <td>1</td>\n",
       "      <td>42</td>\n",
       "      <td>5944.0</td>\n",
       "    </tr>\n",
       "  </tbody>\n",
       "</table>\n",
       "</div>"
      ],
      "text/plain": [
       "   No_of_pass  No_of_male_pass  No_of_female_pass  No_of_kids  \\\n",
       "0         104               56                 34          14   \n",
       "1         163              106                 41          16   \n",
       "2         231               92                109          30   \n",
       "3          91               61                 10          20   \n",
       "4         324               88                123         113   \n",
       "\n",
       "   No_of_non_veg_pass  Flight_duration  Day/Night_flight  \\\n",
       "0                  41               12                 1   \n",
       "1                  97               13                 0   \n",
       "2                  57                4                 1   \n",
       "3                  80                7                 0   \n",
       "4                 176                9                 1   \n",
       "\n",
       "   No_of_business_class_pass  Catering_expenditure  \n",
       "0                         12                2352.0  \n",
       "1                         35                2652.0  \n",
       "2                         52                2547.0  \n",
       "3                         18                1313.0  \n",
       "4                         42                5944.0  "
      ]
     },
     "execution_count": 7,
     "metadata": {},
     "output_type": "execute_result"
    }
   ],
   "source": [
    "df.head()"
   ]
  },
  {
   "cell_type": "code",
   "execution_count": 11,
   "metadata": {},
   "outputs": [
    {
     "data": {
      "text/html": [
       "<div>\n",
       "<style scoped>\n",
       "    .dataframe tbody tr th:only-of-type {\n",
       "        vertical-align: middle;\n",
       "    }\n",
       "\n",
       "    .dataframe tbody tr th {\n",
       "        vertical-align: top;\n",
       "    }\n",
       "\n",
       "    .dataframe thead th {\n",
       "        text-align: right;\n",
       "    }\n",
       "</style>\n",
       "<table border=\"1\" class=\"dataframe\">\n",
       "  <thead>\n",
       "    <tr style=\"text-align: right;\">\n",
       "      <th></th>\n",
       "      <th>count</th>\n",
       "      <th>mean</th>\n",
       "      <th>std</th>\n",
       "      <th>min</th>\n",
       "      <th>25%</th>\n",
       "      <th>50%</th>\n",
       "      <th>75%</th>\n",
       "      <th>max</th>\n",
       "    </tr>\n",
       "  </thead>\n",
       "  <tbody>\n",
       "    <tr>\n",
       "      <td>No_of_pass</td>\n",
       "      <td>30.0</td>\n",
       "      <td>182.333333</td>\n",
       "      <td>70.240146</td>\n",
       "      <td>82.0</td>\n",
       "      <td>120.50</td>\n",
       "      <td>175.5</td>\n",
       "      <td>229.50</td>\n",
       "      <td>324.0</td>\n",
       "    </tr>\n",
       "    <tr>\n",
       "      <td>No_of_male_pass</td>\n",
       "      <td>30.0</td>\n",
       "      <td>83.300000</td>\n",
       "      <td>26.740322</td>\n",
       "      <td>43.0</td>\n",
       "      <td>59.25</td>\n",
       "      <td>85.5</td>\n",
       "      <td>105.75</td>\n",
       "      <td>125.0</td>\n",
       "    </tr>\n",
       "    <tr>\n",
       "      <td>No_of_female_pass</td>\n",
       "      <td>30.0</td>\n",
       "      <td>69.433333</td>\n",
       "      <td>31.801847</td>\n",
       "      <td>10.0</td>\n",
       "      <td>45.25</td>\n",
       "      <td>74.5</td>\n",
       "      <td>94.00</td>\n",
       "      <td>123.0</td>\n",
       "    </tr>\n",
       "    <tr>\n",
       "      <td>No_of_kids</td>\n",
       "      <td>30.0</td>\n",
       "      <td>29.666667</td>\n",
       "      <td>24.337191</td>\n",
       "      <td>3.0</td>\n",
       "      <td>12.50</td>\n",
       "      <td>21.5</td>\n",
       "      <td>41.50</td>\n",
       "      <td>113.0</td>\n",
       "    </tr>\n",
       "    <tr>\n",
       "      <td>No_of_non_veg_pass</td>\n",
       "      <td>30.0</td>\n",
       "      <td>96.300000</td>\n",
       "      <td>52.710105</td>\n",
       "      <td>24.0</td>\n",
       "      <td>57.00</td>\n",
       "      <td>82.5</td>\n",
       "      <td>129.00</td>\n",
       "      <td>205.0</td>\n",
       "    </tr>\n",
       "    <tr>\n",
       "      <td>Flight_duration</td>\n",
       "      <td>30.0</td>\n",
       "      <td>7.900000</td>\n",
       "      <td>3.536509</td>\n",
       "      <td>2.0</td>\n",
       "      <td>5.00</td>\n",
       "      <td>7.5</td>\n",
       "      <td>10.00</td>\n",
       "      <td>15.0</td>\n",
       "    </tr>\n",
       "    <tr>\n",
       "      <td>Day/Night_flight</td>\n",
       "      <td>30.0</td>\n",
       "      <td>0.533333</td>\n",
       "      <td>0.507416</td>\n",
       "      <td>0.0</td>\n",
       "      <td>0.00</td>\n",
       "      <td>1.0</td>\n",
       "      <td>1.00</td>\n",
       "      <td>1.0</td>\n",
       "    </tr>\n",
       "    <tr>\n",
       "      <td>No_of_business_class_pass</td>\n",
       "      <td>30.0</td>\n",
       "      <td>36.866667</td>\n",
       "      <td>16.245388</td>\n",
       "      <td>7.0</td>\n",
       "      <td>25.25</td>\n",
       "      <td>36.0</td>\n",
       "      <td>49.75</td>\n",
       "      <td>70.0</td>\n",
       "    </tr>\n",
       "    <tr>\n",
       "      <td>Catering_expenditure</td>\n",
       "      <td>30.0</td>\n",
       "      <td>3158.183333</td>\n",
       "      <td>1843.020462</td>\n",
       "      <td>1022.0</td>\n",
       "      <td>1753.50</td>\n",
       "      <td>2511.0</td>\n",
       "      <td>4364.00</td>\n",
       "      <td>7210.0</td>\n",
       "    </tr>\n",
       "  </tbody>\n",
       "</table>\n",
       "</div>"
      ],
      "text/plain": [
       "                           count         mean          std     min      25%  \\\n",
       "No_of_pass                  30.0   182.333333    70.240146    82.0   120.50   \n",
       "No_of_male_pass             30.0    83.300000    26.740322    43.0    59.25   \n",
       "No_of_female_pass           30.0    69.433333    31.801847    10.0    45.25   \n",
       "No_of_kids                  30.0    29.666667    24.337191     3.0    12.50   \n",
       "No_of_non_veg_pass          30.0    96.300000    52.710105    24.0    57.00   \n",
       "Flight_duration             30.0     7.900000     3.536509     2.0     5.00   \n",
       "Day/Night_flight            30.0     0.533333     0.507416     0.0     0.00   \n",
       "No_of_business_class_pass   30.0    36.866667    16.245388     7.0    25.25   \n",
       "Catering_expenditure        30.0  3158.183333  1843.020462  1022.0  1753.50   \n",
       "\n",
       "                              50%      75%     max  \n",
       "No_of_pass                  175.5   229.50   324.0  \n",
       "No_of_male_pass              85.5   105.75   125.0  \n",
       "No_of_female_pass            74.5    94.00   123.0  \n",
       "No_of_kids                   21.5    41.50   113.0  \n",
       "No_of_non_veg_pass           82.5   129.00   205.0  \n",
       "Flight_duration               7.5    10.00    15.0  \n",
       "Day/Night_flight              1.0     1.00     1.0  \n",
       "No_of_business_class_pass    36.0    49.75    70.0  \n",
       "Catering_expenditure       2511.0  4364.00  7210.0  "
      ]
     },
     "execution_count": 11,
     "metadata": {},
     "output_type": "execute_result"
    }
   ],
   "source": [
    "df.describe().transpose()"
   ]
  },
  {
   "cell_type": "code",
   "execution_count": 28,
   "metadata": {},
   "outputs": [
    {
     "data": {
      "text/plain": [
       "Index(['No_of_pass', 'No_of_male_pass', 'No_of_female_pass', 'No_of_kids',\n",
       "       'No_of_non_veg_pass', 'Flight_duration', 'Day/Night_flight',\n",
       "       'No_of_business_class_pass', 'Catering_expenditure'],\n",
       "      dtype='object')"
      ]
     },
     "execution_count": 28,
     "metadata": {},
     "output_type": "execute_result"
    }
   ],
   "source": [
    "df.columns"
   ]
  },
  {
   "cell_type": "code",
   "execution_count": 22,
   "metadata": {},
   "outputs": [
    {
     "data": {
      "image/png": "[encoded data removed]",
      "text/plain": [
       "<Figure size 2000x1000 with 2 Axes>"
      ]
     },
     "metadata": {
      "needs_background": "light"
     },
     "output_type": "display_data"
    }
   ],
   "source": [
    "plt.figure(figsize=(10,5),dpi = 200)\n",
    "sns.heatmap(df.corr() );"
   ]
  },
  {
   "cell_type": "code",
   "execution_count": 77,
   "metadata": {},
   "outputs": [
    {
     "data": {
      "text/plain": [
       "<Figure size 2000x1600 with 0 Axes>"
      ]
     },
     "metadata": {},
     "output_type": "display_data"
    },
    {
     "data": {
      "image/png": "[encoded data removed]",
      "text/plain": [
       "<Figure size 720x720 with 20 Axes>"
      ]
     },
     "metadata": {
      "needs_background": "light"
     },
     "output_type": "display_data"
    }
   ],
   "source": [
    "plt.figure(figsize=(10,8) , dpi =200)\n",
    "sns.pairplot(data=df[['No_of_pass','Flight_duration','No_of_business_class_pass','Catering_expenditure' ]] );"
   ]
  },
  {
   "cell_type": "code",
   "execution_count": null,
   "metadata": {},
   "outputs": [],
   "source": []
  },
  {
   "cell_type": "code",
   "execution_count": 34,
   "metadata": {},
   "outputs": [],
   "source": [
    "from sklearn.model_selection import train_test_split"
   ]
  },
  {
   "cell_type": "code",
   "execution_count": 37,
   "metadata": {},
   "outputs": [],
   "source": [
    "X = df.drop('Catering_expenditure',axis = 1)"
   ]
  },
  {
   "cell_type": "code",
   "execution_count": 38,
   "metadata": {},
   "outputs": [],
   "source": [
    "y = df['Catering_expenditure']"
   ]
  },
  {
   "cell_type": "code",
   "execution_count": 39,
   "metadata": {},
   "outputs": [],
   "source": [
    "X_train, X_test, y_train, y_test = train_test_split( X, y, test_size=0.2, random_state=101)"
   ]
  },
  {
   "cell_type": "code",
   "execution_count": 44,
   "metadata": {},
   "outputs": [],
   "source": [
    "from sklearn.preprocessing import StandardScaler"
   ]
  },
  {
   "cell_type": "code",
   "execution_count": 45,
   "metadata": {},
   "outputs": [],
   "source": [
    "scaler = StandardScaler()"
   ]
  },
  {
   "cell_type": "code",
   "execution_count": 46,
   "metadata": {},
   "outputs": [
    {
     "data": {
      "text/plain": [
       "StandardScaler(copy=True, with_mean=True, with_std=True)"
      ]
     },
     "execution_count": 46,
     "metadata": {},
     "output_type": "execute_result"
    }
   ],
   "source": [
    "scaler.fit(X_train)"
   ]
  },
  {
   "cell_type": "code",
   "execution_count": 47,
   "metadata": {},
   "outputs": [],
   "source": [
    "scaled_X_train = scaler.transform(X_train)"
   ]
  },
  {
   "cell_type": "code",
   "execution_count": 49,
   "metadata": {},
   "outputs": [],
   "source": [
    "scaled_X_test = scaler.transform(X_test)"
   ]
  },
  {
   "cell_type": "code",
   "execution_count": 51,
   "metadata": {},
   "outputs": [],
   "source": [
    "from sklearn.linear_model import LinearRegression"
   ]
  },
  {
   "cell_type": "code",
   "execution_count": 52,
   "metadata": {},
   "outputs": [],
   "source": [
    "linear_model = LinearRegression()"
   ]
  },
  {
   "cell_type": "code",
   "execution_count": 53,
   "metadata": {},
   "outputs": [
    {
     "data": {
      "text/plain": [
       "LinearRegression(copy_X=True, fit_intercept=True, n_jobs=None, normalize=False)"
      ]
     },
     "execution_count": 53,
     "metadata": {},
     "output_type": "execute_result"
    }
   ],
   "source": [
    "linear_model.fit(scaled_X_train, y_train)"
   ]
  },
  {
   "cell_type": "code",
   "execution_count": 92,
   "metadata": {},
   "outputs": [
    {
     "data": {
      "text/plain": [
       "array([-5216.56687984,  2358.22763578,  2837.64689822,  2157.93687385,\n",
       "         103.10581139,   365.75304869,   512.32978939,   258.41864887])"
      ]
     },
     "execution_count": 92,
     "metadata": {},
     "output_type": "execute_result"
    }
   ],
   "source": [
    "linear_model.coef_"
   ]
  },
  {
   "cell_type": "code",
   "execution_count": 56,
   "metadata": {},
   "outputs": [],
   "source": [
    "linear_pred = linear_model.predict(scaled_X_test)"
   ]
  },
  {
   "cell_type": "code",
   "execution_count": 57,
   "metadata": {},
   "outputs": [
    {
     "data": {
      "text/plain": [
       "array([2378.89481843, 2028.06953225,  420.52143314, 6219.57265931,\n",
       "       4053.0425582 , 2524.91732766])"
      ]
     },
     "execution_count": 57,
     "metadata": {},
     "output_type": "execute_result"
    }
   ],
   "source": [
    "linear_pred"
   ]
  },
  {
   "cell_type": "code",
   "execution_count": 73,
   "metadata": {},
   "outputs": [
    {
     "data": {
      "text/plain": [
       "20    2470.5\n",
       "24    2023.5\n",
       "7     1022.0\n",
       "18    6933.0\n",
       "2     2547.0\n",
       "27    2475.0\n",
       "Name: Catering_expenditure, dtype: float64"
      ]
     },
     "execution_count": 73,
     "metadata": {},
     "output_type": "execute_result"
    }
   ],
   "source": [
    "y_test"
   ]
  },
  {
   "cell_type": "code",
   "execution_count": 59,
   "metadata": {},
   "outputs": [],
   "source": [
    "from sklearn.metrics import mean_absolute_error,mean_squared_error"
   ]
  },
  {
   "cell_type": "code",
   "execution_count": 60,
   "metadata": {},
   "outputs": [
    {
     "data": {
      "text/plain": [
       "494.5067512065987"
      ]
     },
     "execution_count": 60,
     "metadata": {},
     "output_type": "execute_result"
    }
   ],
   "source": [
    "mean_absolute_error(y_test,linear_pred)"
   ]
  },
  {
   "cell_type": "code",
   "execution_count": 63,
   "metadata": {},
   "outputs": [
    {
     "data": {
      "text/plain": [
       "724.5485207448968"
      ]
     },
     "execution_count": 63,
     "metadata": {},
     "output_type": "execute_result"
    }
   ],
   "source": [
    "np.sqrt(mean_squared_error(y_test,linear_pred))"
   ]
  },
  {
   "cell_type": "code",
   "execution_count": 231,
   "metadata": {},
   "outputs": [],
   "source": [
    "p1 = scaler.transform([[210,95,85,30,110,4,0,55]])"
   ]
  },
  {
   "cell_type": "code",
   "execution_count": 232,
   "metadata": {},
   "outputs": [
    {
     "data": {
      "text/plain": [
       "array([[ 0.35440882,  0.3935272 ,  0.48960418, -0.06772389,  0.15175611,\n",
       "        -1.20842061, -1.        ,  1.16493965]])"
      ]
     },
     "execution_count": 232,
     "metadata": {},
     "output_type": "execute_result"
    }
   ],
   "source": [
    "p1"
   ]
  },
  {
   "cell_type": "code",
   "execution_count": 233,
   "metadata": {},
   "outputs": [
    {
     "data": {
      "text/plain": [
       "array([2904.5559057])"
      ]
     },
     "execution_count": 233,
     "metadata": {},
     "output_type": "execute_result"
    }
   ],
   "source": [
    "linear_model.predict(p1)"
   ]
  },
  {
   "cell_type": "code",
   "execution_count": null,
   "metadata": {},
   "outputs": [],
   "source": []
  },
  {
   "cell_type": "code",
   "execution_count": 267,
   "metadata": {},
   "outputs": [],
   "source": [
    "from joblib import dump,load"
   ]
  },
  {
   "cell_type": "code",
   "execution_count": 268,
   "metadata": {},
   "outputs": [
    {
     "data": {
      "text/plain": [
       "['linearmodel.joblib']"
      ]
     },
     "execution_count": 268,
     "metadata": {},
     "output_type": "execute_result"
    }
   ],
   "source": [
    "dump(linear_model , 'linearmodel.joblib' )"
   ]
  },
  {
   "cell_type": "code",
   "execution_count": 269,
   "metadata": {},
   "outputs": [
    {
     "data": {
      "text/plain": [
       "['linearscaler.joblib']"
      ]
     },
     "execution_count": 269,
     "metadata": {},
     "output_type": "execute_result"
    }
   ],
   "source": [
    "dump(scaler,'linearscaler.joblib')"
   ]
  },
  {
   "cell_type": "code",
   "execution_count": null,
   "metadata": {},
   "outputs": [],
   "source": []
  },
  {
   "cell_type": "code",
   "execution_count": 270,
   "metadata": {},
   "outputs": [],
   "source": [
    "ls = load('linearscaler.joblib')"
   ]
  },
  {
   "cell_type": "code",
   "execution_count": 271,
   "metadata": {},
   "outputs": [],
   "source": [
    "lm = load('linearmodel.joblib')"
   ]
  },
  {
   "cell_type": "code",
   "execution_count": 273,
   "metadata": {},
   "outputs": [],
   "source": [
    "mpe = ls.transform([[210,95,85,30,110,13,1,55]])"
   ]
  },
  {
   "cell_type": "code",
   "execution_count": 276,
   "metadata": {},
   "outputs": [
    {
     "data": {
      "text/plain": [
       "4883.899893463961"
      ]
     },
     "execution_count": 276,
     "metadata": {},
     "output_type": "execute_result"
    }
   ],
   "source": [
    "lm.predict(mpe)[0]"
   ]
  },
  {
   "cell_type": "code",
   "execution_count": 275,
   "metadata": {},
   "outputs": [
    {
     "data": {
      "text/html": [
       "<div>\n",
       "<style scoped>\n",
       "    .dataframe tbody tr th:only-of-type {\n",
       "        vertical-align: middle;\n",
       "    }\n",
       "\n",
       "    .dataframe tbody tr th {\n",
       "        vertical-align: top;\n",
       "    }\n",
       "\n",
       "    .dataframe thead th {\n",
       "        text-align: right;\n",
       "    }\n",
       "</style>\n",
       "<table border=\"1\" class=\"dataframe\">\n",
       "  <thead>\n",
       "    <tr style=\"text-align: right;\">\n",
       "      <th></th>\n",
       "      <th>No_of_pass</th>\n",
       "      <th>No_of_male_pass</th>\n",
       "      <th>No_of_female_pass</th>\n",
       "      <th>No_of_kids</th>\n",
       "      <th>No_of_non_veg_pass</th>\n",
       "      <th>Flight_duration</th>\n",
       "      <th>Day/Night_flight</th>\n",
       "      <th>No_of_business_class_pass</th>\n",
       "      <th>Catering_expenditure</th>\n",
       "    </tr>\n",
       "  </thead>\n",
       "  <tbody>\n",
       "    <tr>\n",
       "      <td>0</td>\n",
       "      <td>104</td>\n",
       "      <td>56</td>\n",
       "      <td>34</td>\n",
       "      <td>14</td>\n",
       "      <td>41</td>\n",
       "      <td>12</td>\n",
       "      <td>1</td>\n",
       "      <td>12</td>\n",
       "      <td>2352.0</td>\n",
       "    </tr>\n",
       "    <tr>\n",
       "      <td>1</td>\n",
       "      <td>163</td>\n",
       "      <td>106</td>\n",
       "      <td>41</td>\n",
       "      <td>16</td>\n",
       "      <td>97</td>\n",
       "      <td>13</td>\n",
       "      <td>0</td>\n",
       "      <td>35</td>\n",
       "      <td>2652.0</td>\n",
       "    </tr>\n",
       "    <tr>\n",
       "      <td>2</td>\n",
       "      <td>231</td>\n",
       "      <td>92</td>\n",
       "      <td>109</td>\n",
       "      <td>30</td>\n",
       "      <td>57</td>\n",
       "      <td>4</td>\n",
       "      <td>1</td>\n",
       "      <td>52</td>\n",
       "      <td>2547.0</td>\n",
       "    </tr>\n",
       "    <tr>\n",
       "      <td>3</td>\n",
       "      <td>91</td>\n",
       "      <td>61</td>\n",
       "      <td>10</td>\n",
       "      <td>20</td>\n",
       "      <td>80</td>\n",
       "      <td>7</td>\n",
       "      <td>0</td>\n",
       "      <td>18</td>\n",
       "      <td>1313.0</td>\n",
       "    </tr>\n",
       "    <tr>\n",
       "      <td>4</td>\n",
       "      <td>324</td>\n",
       "      <td>88</td>\n",
       "      <td>123</td>\n",
       "      <td>113</td>\n",
       "      <td>176</td>\n",
       "      <td>9</td>\n",
       "      <td>1</td>\n",
       "      <td>42</td>\n",
       "      <td>5944.0</td>\n",
       "    </tr>\n",
       "    <tr>\n",
       "      <td>5</td>\n",
       "      <td>148</td>\n",
       "      <td>119</td>\n",
       "      <td>16</td>\n",
       "      <td>6</td>\n",
       "      <td>55</td>\n",
       "      <td>3</td>\n",
       "      <td>1</td>\n",
       "      <td>26</td>\n",
       "      <td>1729.0</td>\n",
       "    </tr>\n",
       "    <tr>\n",
       "      <td>6</td>\n",
       "      <td>286</td>\n",
       "      <td>112</td>\n",
       "      <td>106</td>\n",
       "      <td>68</td>\n",
       "      <td>205</td>\n",
       "      <td>15</td>\n",
       "      <td>0</td>\n",
       "      <td>39</td>\n",
       "      <td>4343.0</td>\n",
       "    </tr>\n",
       "    <tr>\n",
       "      <td>7</td>\n",
       "      <td>82</td>\n",
       "      <td>53</td>\n",
       "      <td>26</td>\n",
       "      <td>3</td>\n",
       "      <td>66</td>\n",
       "      <td>4</td>\n",
       "      <td>0</td>\n",
       "      <td>11</td>\n",
       "      <td>1022.0</td>\n",
       "    </tr>\n",
       "    <tr>\n",
       "      <td>8</td>\n",
       "      <td>190</td>\n",
       "      <td>95</td>\n",
       "      <td>88</td>\n",
       "      <td>7</td>\n",
       "      <td>190</td>\n",
       "      <td>9</td>\n",
       "      <td>1</td>\n",
       "      <td>33</td>\n",
       "      <td>4206.0</td>\n",
       "    </tr>\n",
       "    <tr>\n",
       "      <td>9</td>\n",
       "      <td>99</td>\n",
       "      <td>62</td>\n",
       "      <td>27</td>\n",
       "      <td>10</td>\n",
       "      <td>77</td>\n",
       "      <td>5</td>\n",
       "      <td>0</td>\n",
       "      <td>7</td>\n",
       "      <td>1174.0</td>\n",
       "    </tr>\n",
       "    <tr>\n",
       "      <td>10</td>\n",
       "      <td>270</td>\n",
       "      <td>115</td>\n",
       "      <td>110</td>\n",
       "      <td>55</td>\n",
       "      <td>162</td>\n",
       "      <td>11</td>\n",
       "      <td>1</td>\n",
       "      <td>60</td>\n",
       "      <td>6433.5</td>\n",
       "    </tr>\n",
       "    <tr>\n",
       "      <td>11</td>\n",
       "      <td>245</td>\n",
       "      <td>105</td>\n",
       "      <td>87</td>\n",
       "      <td>52</td>\n",
       "      <td>144</td>\n",
       "      <td>10</td>\n",
       "      <td>1</td>\n",
       "      <td>55</td>\n",
       "      <td>4954.5</td>\n",
       "    </tr>\n",
       "    <tr>\n",
       "      <td>12</td>\n",
       "      <td>225</td>\n",
       "      <td>100</td>\n",
       "      <td>80</td>\n",
       "      <td>45</td>\n",
       "      <td>132</td>\n",
       "      <td>8</td>\n",
       "      <td>0</td>\n",
       "      <td>50</td>\n",
       "      <td>3054.0</td>\n",
       "    </tr>\n",
       "    <tr>\n",
       "      <td>13</td>\n",
       "      <td>310</td>\n",
       "      <td>125</td>\n",
       "      <td>120</td>\n",
       "      <td>65</td>\n",
       "      <td>186</td>\n",
       "      <td>12</td>\n",
       "      <td>1</td>\n",
       "      <td>70</td>\n",
       "      <td>7210.0</td>\n",
       "    </tr>\n",
       "    <tr>\n",
       "      <td>14</td>\n",
       "      <td>120</td>\n",
       "      <td>50</td>\n",
       "      <td>46</td>\n",
       "      <td>24</td>\n",
       "      <td>72</td>\n",
       "      <td>4</td>\n",
       "      <td>0</td>\n",
       "      <td>25</td>\n",
       "      <td>1377.0</td>\n",
       "    </tr>\n",
       "    <tr>\n",
       "      <td>15</td>\n",
       "      <td>205</td>\n",
       "      <td>83</td>\n",
       "      <td>80</td>\n",
       "      <td>42</td>\n",
       "      <td>120</td>\n",
       "      <td>7</td>\n",
       "      <td>0</td>\n",
       "      <td>45</td>\n",
       "      <td>2760.0</td>\n",
       "    </tr>\n",
       "    <tr>\n",
       "      <td>16</td>\n",
       "      <td>160</td>\n",
       "      <td>58</td>\n",
       "      <td>70</td>\n",
       "      <td>32</td>\n",
       "      <td>96</td>\n",
       "      <td>2</td>\n",
       "      <td>1</td>\n",
       "      <td>35</td>\n",
       "      <td>1827.0</td>\n",
       "    </tr>\n",
       "    <tr>\n",
       "      <td>17</td>\n",
       "      <td>145</td>\n",
       "      <td>60</td>\n",
       "      <td>55</td>\n",
       "      <td>30</td>\n",
       "      <td>85</td>\n",
       "      <td>5</td>\n",
       "      <td>0</td>\n",
       "      <td>30</td>\n",
       "      <td>1655.0</td>\n",
       "    </tr>\n",
       "    <tr>\n",
       "      <td>18</td>\n",
       "      <td>285</td>\n",
       "      <td>120</td>\n",
       "      <td>105</td>\n",
       "      <td>60</td>\n",
       "      <td>176</td>\n",
       "      <td>14</td>\n",
       "      <td>1</td>\n",
       "      <td>65</td>\n",
       "      <td>6933.0</td>\n",
       "    </tr>\n",
       "    <tr>\n",
       "      <td>19</td>\n",
       "      <td>182</td>\n",
       "      <td>70</td>\n",
       "      <td>72</td>\n",
       "      <td>40</td>\n",
       "      <td>108</td>\n",
       "      <td>3</td>\n",
       "      <td>0</td>\n",
       "      <td>40</td>\n",
       "      <td>2074.0</td>\n",
       "    </tr>\n",
       "    <tr>\n",
       "      <td>20</td>\n",
       "      <td>122</td>\n",
       "      <td>62</td>\n",
       "      <td>45</td>\n",
       "      <td>15</td>\n",
       "      <td>48</td>\n",
       "      <td>6</td>\n",
       "      <td>1</td>\n",
       "      <td>26</td>\n",
       "      <td>2470.5</td>\n",
       "    </tr>\n",
       "    <tr>\n",
       "      <td>21</td>\n",
       "      <td>135</td>\n",
       "      <td>59</td>\n",
       "      <td>55</td>\n",
       "      <td>21</td>\n",
       "      <td>50</td>\n",
       "      <td>9</td>\n",
       "      <td>1</td>\n",
       "      <td>33</td>\n",
       "      <td>2707.5</td>\n",
       "    </tr>\n",
       "    <tr>\n",
       "      <td>22</td>\n",
       "      <td>117</td>\n",
       "      <td>54</td>\n",
       "      <td>51</td>\n",
       "      <td>12</td>\n",
       "      <td>35</td>\n",
       "      <td>9</td>\n",
       "      <td>0</td>\n",
       "      <td>23</td>\n",
       "      <td>1544.0</td>\n",
       "    </tr>\n",
       "    <tr>\n",
       "      <td>23</td>\n",
       "      <td>97</td>\n",
       "      <td>45</td>\n",
       "      <td>43</td>\n",
       "      <td>9</td>\n",
       "      <td>24</td>\n",
       "      <td>4</td>\n",
       "      <td>0</td>\n",
       "      <td>20</td>\n",
       "      <td>1084.0</td>\n",
       "    </tr>\n",
       "    <tr>\n",
       "      <td>24</td>\n",
       "      <td>102</td>\n",
       "      <td>43</td>\n",
       "      <td>49</td>\n",
       "      <td>10</td>\n",
       "      <td>28</td>\n",
       "      <td>6</td>\n",
       "      <td>1</td>\n",
       "      <td>23</td>\n",
       "      <td>2023.5</td>\n",
       "    </tr>\n",
       "    <tr>\n",
       "      <td>25</td>\n",
       "      <td>239</td>\n",
       "      <td>115</td>\n",
       "      <td>102</td>\n",
       "      <td>22</td>\n",
       "      <td>95</td>\n",
       "      <td>12</td>\n",
       "      <td>1</td>\n",
       "      <td>57</td>\n",
       "      <td>5619.0</td>\n",
       "    </tr>\n",
       "    <tr>\n",
       "      <td>26</td>\n",
       "      <td>216</td>\n",
       "      <td>105</td>\n",
       "      <td>96</td>\n",
       "      <td>15</td>\n",
       "      <td>64</td>\n",
       "      <td>10</td>\n",
       "      <td>1</td>\n",
       "      <td>49</td>\n",
       "      <td>4371.0</td>\n",
       "    </tr>\n",
       "    <tr>\n",
       "      <td>27</td>\n",
       "      <td>183</td>\n",
       "      <td>94</td>\n",
       "      <td>77</td>\n",
       "      <td>12</td>\n",
       "      <td>60</td>\n",
       "      <td>7</td>\n",
       "      <td>0</td>\n",
       "      <td>38</td>\n",
       "      <td>2475.0</td>\n",
       "    </tr>\n",
       "    <tr>\n",
       "      <td>28</td>\n",
       "      <td>169</td>\n",
       "      <td>73</td>\n",
       "      <td>81</td>\n",
       "      <td>15</td>\n",
       "      <td>57</td>\n",
       "      <td>7</td>\n",
       "      <td>0</td>\n",
       "      <td>37</td>\n",
       "      <td>2259.0</td>\n",
       "    </tr>\n",
       "    <tr>\n",
       "      <td>29</td>\n",
       "      <td>225</td>\n",
       "      <td>119</td>\n",
       "      <td>79</td>\n",
       "      <td>27</td>\n",
       "      <td>103</td>\n",
       "      <td>10</td>\n",
       "      <td>1</td>\n",
       "      <td>50</td>\n",
       "      <td>4632.0</td>\n",
       "    </tr>\n",
       "  </tbody>\n",
       "</table>\n",
       "</div>"
      ],
      "text/plain": [
       "    No_of_pass  No_of_male_pass  No_of_female_pass  No_of_kids  \\\n",
       "0          104               56                 34          14   \n",
       "1          163              106                 41          16   \n",
       "2          231               92                109          30   \n",
       "3           91               61                 10          20   \n",
       "4          324               88                123         113   \n",
       "5          148              119                 16           6   \n",
       "6          286              112                106          68   \n",
       "7           82               53                 26           3   \n",
       "8          190               95                 88           7   \n",
       "9           99               62                 27          10   \n",
       "10         270              115                110          55   \n",
       "11         245              105                 87          52   \n",
       "12         225              100                 80          45   \n",
       "13         310              125                120          65   \n",
       "14         120               50                 46          24   \n",
       "15         205               83                 80          42   \n",
       "16         160               58                 70          32   \n",
       "17         145               60                 55          30   \n",
       "18         285              120                105          60   \n",
       "19         182               70                 72          40   \n",
       "20         122               62                 45          15   \n",
       "21         135               59                 55          21   \n",
       "22         117               54                 51          12   \n",
       "23          97               45                 43           9   \n",
       "24         102               43                 49          10   \n",
       "25         239              115                102          22   \n",
       "26         216              105                 96          15   \n",
       "27         183               94                 77          12   \n",
       "28         169               73                 81          15   \n",
       "29         225              119                 79          27   \n",
       "\n",
       "    No_of_non_veg_pass  Flight_duration  Day/Night_flight  \\\n",
       "0                   41               12                 1   \n",
       "1                   97               13                 0   \n",
       "2                   57                4                 1   \n",
       "3                   80                7                 0   \n",
       "4                  176                9                 1   \n",
       "5                   55                3                 1   \n",
       "6                  205               15                 0   \n",
       "7                   66                4                 0   \n",
       "8                  190                9                 1   \n",
       "9                   77                5                 0   \n",
       "10                 162               11                 1   \n",
       "11                 144               10                 1   \n",
       "12                 132                8                 0   \n",
       "13                 186               12                 1   \n",
       "14                  72                4                 0   \n",
       "15                 120                7                 0   \n",
       "16                  96                2                 1   \n",
       "17                  85                5                 0   \n",
       "18                 176               14                 1   \n",
       "19                 108                3                 0   \n",
       "20                  48                6                 1   \n",
       "21                  50                9                 1   \n",
       "22                  35                9                 0   \n",
       "23                  24                4                 0   \n",
       "24                  28                6                 1   \n",
       "25                  95               12                 1   \n",
       "26                  64               10                 1   \n",
       "27                  60                7                 0   \n",
       "28                  57                7                 0   \n",
       "29                 103               10                 1   \n",
       "\n",
       "    No_of_business_class_pass  Catering_expenditure  \n",
       "0                          12                2352.0  \n",
       "1                          35                2652.0  \n",
       "2                          52                2547.0  \n",
       "3                          18                1313.0  \n",
       "4                          42                5944.0  \n",
       "5                          26                1729.0  \n",
       "6                          39                4343.0  \n",
       "7                          11                1022.0  \n",
       "8                          33                4206.0  \n",
       "9                           7                1174.0  \n",
       "10                         60                6433.5  \n",
       "11                         55                4954.5  \n",
       "12                         50                3054.0  \n",
       "13                         70                7210.0  \n",
       "14                         25                1377.0  \n",
       "15                         45                2760.0  \n",
       "16                         35                1827.0  \n",
       "17                         30                1655.0  \n",
       "18                         65                6933.0  \n",
       "19                         40                2074.0  \n",
       "20                         26                2470.5  \n",
       "21                         33                2707.5  \n",
       "22                         23                1544.0  \n",
       "23                         20                1084.0  \n",
       "24                         23                2023.5  \n",
       "25                         57                5619.0  \n",
       "26                         49                4371.0  \n",
       "27                         38                2475.0  \n",
       "28                         37                2259.0  \n",
       "29                         50                4632.0  "
      ]
     },
     "execution_count": 275,
     "metadata": {},
     "output_type": "execute_result"
    }
   ],
   "source": [
    "df"
   ]
  },
  {
   "cell_type": "code",
   "execution_count": null,
   "metadata": {},
   "outputs": [],
   "source": []
  },
  {
   "cell_type": "code",
   "execution_count": null,
   "metadata": {},
   "outputs": [],
   "source": []
  },
  {
   "cell_type": "code",
   "execution_count": 93,
   "metadata": {},
   "outputs": [],
   "source": [
    "from sklearn.preprocessing import PolynomialFeatures"
   ]
  },
  {
   "cell_type": "code",
   "execution_count": 147,
   "metadata": {},
   "outputs": [],
   "source": [
    "polynomial_converter = PolynomialFeatures(degree = 2)"
   ]
  },
  {
   "cell_type": "code",
   "execution_count": 148,
   "metadata": {},
   "outputs": [],
   "source": [
    "polyfeatures = polynomial_converter.fit_transform(X)"
   ]
  },
  {
   "cell_type": "code",
   "execution_count": 149,
   "metadata": {},
   "outputs": [
    {
     "data": {
      "text/plain": [
       "array([[1.000e+00, 1.040e+02, 5.600e+01, ..., 1.000e+00, 1.200e+01,\n",
       "        1.440e+02],\n",
       "       [1.000e+00, 1.630e+02, 1.060e+02, ..., 0.000e+00, 0.000e+00,\n",
       "        1.225e+03],\n",
       "       [1.000e+00, 2.310e+02, 9.200e+01, ..., 1.000e+00, 5.200e+01,\n",
       "        2.704e+03],\n",
       "       ...,\n",
       "       [1.000e+00, 1.830e+02, 9.400e+01, ..., 0.000e+00, 0.000e+00,\n",
       "        1.444e+03],\n",
       "       [1.000e+00, 1.690e+02, 7.300e+01, ..., 0.000e+00, 0.000e+00,\n",
       "        1.369e+03],\n",
       "       [1.000e+00, 2.250e+02, 1.190e+02, ..., 1.000e+00, 5.000e+01,\n",
       "        2.500e+03]])"
      ]
     },
     "execution_count": 149,
     "metadata": {},
     "output_type": "execute_result"
    }
   ],
   "source": [
    "polyfeatures"
   ]
  },
  {
   "cell_type": "code",
   "execution_count": 150,
   "metadata": {},
   "outputs": [],
   "source": [
    " X_train, X_test, y_train, y_test = train_test_split(polyfeatures, y, test_size=0.3, random_state=101)"
   ]
  },
  {
   "cell_type": "code",
   "execution_count": 151,
   "metadata": {},
   "outputs": [],
   "source": [
    "polynomialmodel = LinearRegression()"
   ]
  },
  {
   "cell_type": "code",
   "execution_count": 152,
   "metadata": {},
   "outputs": [
    {
     "data": {
      "text/plain": [
       "LinearRegression(copy_X=True, fit_intercept=True, n_jobs=None, normalize=False)"
      ]
     },
     "execution_count": 152,
     "metadata": {},
     "output_type": "execute_result"
    }
   ],
   "source": [
    "polynomialmodel.fit(X_train,y_train)"
   ]
  },
  {
   "cell_type": "code",
   "execution_count": 153,
   "metadata": {},
   "outputs": [],
   "source": [
    "polypred = polynomialmodel.predict(X_test)"
   ]
  },
  {
   "cell_type": "code",
   "execution_count": 154,
   "metadata": {},
   "outputs": [
    {
     "data": {
      "text/plain": [
       "412.80572314724384"
      ]
     },
     "execution_count": 154,
     "metadata": {},
     "output_type": "execute_result"
    }
   ],
   "source": [
    "mean_absolute_error(polypred,y_test)"
   ]
  },
  {
   "cell_type": "code",
   "execution_count": 155,
   "metadata": {},
   "outputs": [
    {
     "data": {
      "text/plain": [
       "665.1833195715512"
      ]
     },
     "execution_count": 155,
     "metadata": {},
     "output_type": "execute_result"
    }
   ],
   "source": [
    "np.sqrt(mean_squared_error(polypred,y_test))"
   ]
  },
  {
   "cell_type": "code",
   "execution_count": 238,
   "metadata": {},
   "outputs": [],
   "source": [
    "p2 = polynomial_converter.transform([[210,95,85,30,110,13,1,55]])"
   ]
  },
  {
   "cell_type": "code",
   "execution_count": 239,
   "metadata": {},
   "outputs": [
    {
     "data": {
      "text/plain": [
       "array([5466.62905482])"
      ]
     },
     "execution_count": 239,
     "metadata": {},
     "output_type": "execute_result"
    }
   ],
   "source": [
    "polynomialmodel.predict(p2)"
   ]
  },
  {
   "cell_type": "code",
   "execution_count": null,
   "metadata": {},
   "outputs": [],
   "source": []
  },
  {
   "cell_type": "code",
   "execution_count": null,
   "metadata": {},
   "outputs": [],
   "source": []
  },
  {
   "cell_type": "code",
   "execution_count": null,
   "metadata": {},
   "outputs": [],
   "source": []
  },
  {
   "cell_type": "code",
   "execution_count": null,
   "metadata": {},
   "outputs": [],
   "source": []
  },
  {
   "cell_type": "code",
   "execution_count": 240,
   "metadata": {},
   "outputs": [],
   "source": [
    "from sklearn.linear_model import ElasticNet"
   ]
  },
  {
   "cell_type": "code",
   "execution_count": 241,
   "metadata": {},
   "outputs": [],
   "source": [
    "elasticmodel = ElasticNet()"
   ]
  },
  {
   "cell_type": "code",
   "execution_count": 244,
   "metadata": {},
   "outputs": [],
   "source": [
    "param_grid = { 'alpha' :[0.001 , 0.1 , 0.01 , 1 , 5 , 100] ,\n",
    "                'l1_ratio' : [0.1 , 0.2 , 0.5 , 0.7 , 0.9 , 1]}"
   ]
  },
  {
   "cell_type": "code",
   "execution_count": 242,
   "metadata": {},
   "outputs": [],
   "source": [
    "from sklearn.model_selection import GridSearchCV"
   ]
  },
  {
   "cell_type": "code",
   "execution_count": 249,
   "metadata": {},
   "outputs": [],
   "source": [
    "gridmodel = GridSearchCV(elasticmodel , param_grid=param_grid ,scoring='neg_mean_squared_error')"
   ]
  },
  {
   "cell_type": "code",
   "execution_count": 250,
   "metadata": {},
   "outputs": [
    {
     "name": "stderr",
     "output_type": "stream",
     "text": [
      "D:\\CODING\\Anaconda\\lib\\site-packages\\sklearn\\model_selection\\_split.py:1978: FutureWarning: The default value of cv will change from 3 to 5 in version 0.22. Specify it explicitly to silence this warning.\n",
      "  warnings.warn(CV_WARNING, FutureWarning)\n",
      "D:\\CODING\\Anaconda\\lib\\site-packages\\sklearn\\linear_model\\coordinate_descent.py:475: ConvergenceWarning: Objective did not converge. You might want to increase the number of iterations. Duality gap: 707826.5113298575, tolerance: 5141.821225000001\n",
      "  positive)\n",
      "D:\\CODING\\Anaconda\\lib\\site-packages\\sklearn\\linear_model\\coordinate_descent.py:475: ConvergenceWarning: Objective did not converge. You might want to increase the number of iterations. Duality gap: 1108289.14642279, tolerance: 5863.15884375\n",
      "  positive)\n",
      "D:\\CODING\\Anaconda\\lib\\site-packages\\sklearn\\linear_model\\coordinate_descent.py:475: ConvergenceWarning: Objective did not converge. You might want to increase the number of iterations. Duality gap: 624822.8432585705, tolerance: 4314.314725\n",
      "  positive)\n",
      "D:\\CODING\\Anaconda\\lib\\site-packages\\sklearn\\linear_model\\coordinate_descent.py:475: ConvergenceWarning: Objective did not converge. You might want to increase the number of iterations. Duality gap: 706644.0990589882, tolerance: 5141.821225000001\n",
      "  positive)\n",
      "D:\\CODING\\Anaconda\\lib\\site-packages\\sklearn\\linear_model\\coordinate_descent.py:475: ConvergenceWarning: Objective did not converge. You might want to increase the number of iterations. Duality gap: 1107500.5945372886, tolerance: 5863.15884375\n",
      "  positive)\n",
      "D:\\CODING\\Anaconda\\lib\\site-packages\\sklearn\\linear_model\\coordinate_descent.py:475: ConvergenceWarning: Objective did not converge. You might want to increase the number of iterations. Duality gap: 624242.5192576153, tolerance: 4314.314725\n",
      "  positive)\n",
      "D:\\CODING\\Anaconda\\lib\\site-packages\\sklearn\\linear_model\\coordinate_descent.py:475: ConvergenceWarning: Objective did not converge. You might want to increase the number of iterations. Duality gap: 703088.3985329263, tolerance: 5141.821225000001\n",
      "  positive)\n",
      "D:\\CODING\\Anaconda\\lib\\site-packages\\sklearn\\linear_model\\coordinate_descent.py:475: ConvergenceWarning: Objective did not converge. You might want to increase the number of iterations. Duality gap: 1105123.9519894656, tolerance: 5863.15884375\n",
      "  positive)\n",
      "D:\\CODING\\Anaconda\\lib\\site-packages\\sklearn\\linear_model\\coordinate_descent.py:475: ConvergenceWarning: Objective did not converge. You might want to increase the number of iterations. Duality gap: 622497.6416830667, tolerance: 4314.314725\n",
      "  positive)\n",
      "D:\\CODING\\Anaconda\\lib\\site-packages\\sklearn\\linear_model\\coordinate_descent.py:475: ConvergenceWarning: Objective did not converge. You might want to increase the number of iterations. Duality gap: 700710.8531447633, tolerance: 5141.821225000001\n",
      "  positive)\n",
      "D:\\CODING\\Anaconda\\lib\\site-packages\\sklearn\\linear_model\\coordinate_descent.py:475: ConvergenceWarning: Objective did not converge. You might want to increase the number of iterations. Duality gap: 1103530.3014484502, tolerance: 5863.15884375\n",
      "  positive)\n",
      "D:\\CODING\\Anaconda\\lib\\site-packages\\sklearn\\linear_model\\coordinate_descent.py:475: ConvergenceWarning: Objective did not converge. You might want to increase the number of iterations. Duality gap: 621331.1235901293, tolerance: 4314.314725\n",
      "  positive)\n",
      "D:\\CODING\\Anaconda\\lib\\site-packages\\sklearn\\linear_model\\coordinate_descent.py:475: ConvergenceWarning: Objective did not converge. You might want to increase the number of iterations. Duality gap: 698327.6209264632, tolerance: 5141.821225000001\n",
      "  positive)\n",
      "D:\\CODING\\Anaconda\\lib\\site-packages\\sklearn\\linear_model\\coordinate_descent.py:475: ConvergenceWarning: Objective did not converge. You might want to increase the number of iterations. Duality gap: 1101929.2105607407, tolerance: 5863.15884375\n",
      "  positive)\n",
      "D:\\CODING\\Anaconda\\lib\\site-packages\\sklearn\\linear_model\\coordinate_descent.py:475: ConvergenceWarning: Objective did not converge. You might want to increase the number of iterations. Duality gap: 620161.9817627775, tolerance: 4314.314725\n",
      "  positive)\n",
      "D:\\CODING\\Anaconda\\lib\\site-packages\\sklearn\\linear_model\\coordinate_descent.py:475: ConvergenceWarning: Objective did not converge. You might want to increase the number of iterations. Duality gap: 697133.8660857423, tolerance: 5141.821225000001\n",
      "  positive)\n",
      "D:\\CODING\\Anaconda\\lib\\site-packages\\sklearn\\linear_model\\coordinate_descent.py:475: ConvergenceWarning: Objective did not converge. You might want to increase the number of iterations. Duality gap: 1101125.858054388, tolerance: 5863.15884375\n",
      "  positive)\n",
      "D:\\CODING\\Anaconda\\lib\\site-packages\\sklearn\\linear_model\\coordinate_descent.py:475: ConvergenceWarning: Objective did not converge. You might want to increase the number of iterations. Duality gap: 619576.4237035711, tolerance: 4314.314725\n",
      "  positive)\n",
      "D:\\CODING\\Anaconda\\lib\\site-packages\\sklearn\\linear_model\\coordinate_descent.py:475: ConvergenceWarning: Objective did not converge. You might want to increase the number of iterations. Duality gap: 1395787.7240061744, tolerance: 5141.821225000001\n",
      "  positive)\n",
      "D:\\CODING\\Anaconda\\lib\\site-packages\\sklearn\\linear_model\\coordinate_descent.py:475: ConvergenceWarning: Objective did not converge. You might want to increase the number of iterations. Duality gap: 1459664.247999127, tolerance: 5863.15884375\n",
      "  positive)\n",
      "D:\\CODING\\Anaconda\\lib\\site-packages\\sklearn\\linear_model\\coordinate_descent.py:475: ConvergenceWarning: Objective did not converge. You might want to increase the number of iterations. Duality gap: 973501.6343071923, tolerance: 4314.314725\n",
      "  positive)\n",
      "D:\\CODING\\Anaconda\\lib\\site-packages\\sklearn\\linear_model\\coordinate_descent.py:475: ConvergenceWarning: Objective did not converge. You might want to increase the number of iterations. Duality gap: 1343013.78239998, tolerance: 5141.821225000001\n",
      "  positive)\n",
      "D:\\CODING\\Anaconda\\lib\\site-packages\\sklearn\\linear_model\\coordinate_descent.py:475: ConvergenceWarning: Objective did not converge. You might want to increase the number of iterations. Duality gap: 1438078.4654398116, tolerance: 5863.15884375\n",
      "  positive)\n",
      "D:\\CODING\\Anaconda\\lib\\site-packages\\sklearn\\linear_model\\coordinate_descent.py:475: ConvergenceWarning: Objective did not converge. You might want to increase the number of iterations. Duality gap: 945821.453782544, tolerance: 4314.314725\n",
      "  positive)\n",
      "D:\\CODING\\Anaconda\\lib\\site-packages\\sklearn\\linear_model\\coordinate_descent.py:475: ConvergenceWarning: Objective did not converge. You might want to increase the number of iterations. Duality gap: 1156326.9611570323, tolerance: 5141.821225000001\n",
      "  positive)\n",
      "D:\\CODING\\Anaconda\\lib\\site-packages\\sklearn\\linear_model\\coordinate_descent.py:475: ConvergenceWarning: Objective did not converge. You might want to increase the number of iterations. Duality gap: 1356280.576304778, tolerance: 5863.15884375\n",
      "  positive)\n",
      "D:\\CODING\\Anaconda\\lib\\site-packages\\sklearn\\linear_model\\coordinate_descent.py:475: ConvergenceWarning: Objective did not converge. You might want to increase the number of iterations. Duality gap: 849454.1052712242, tolerance: 4314.314725\n",
      "  positive)\n",
      "D:\\CODING\\Anaconda\\lib\\site-packages\\sklearn\\linear_model\\coordinate_descent.py:475: ConvergenceWarning: Objective did not converge. You might want to increase the number of iterations. Duality gap: 1000825.9207543829, tolerance: 5141.821225000001\n",
      "  positive)\n",
      "D:\\CODING\\Anaconda\\lib\\site-packages\\sklearn\\linear_model\\coordinate_descent.py:475: ConvergenceWarning: Objective did not converge. You might want to increase the number of iterations. Duality gap: 1280009.468590975, tolerance: 5863.15884375\n",
      "  positive)\n",
      "D:\\CODING\\Anaconda\\lib\\site-packages\\sklearn\\linear_model\\coordinate_descent.py:475: ConvergenceWarning: Objective did not converge. You might want to increase the number of iterations. Duality gap: 770734.7422533967, tolerance: 4314.314725\n",
      "  positive)\n",
      "D:\\CODING\\Anaconda\\lib\\site-packages\\sklearn\\linear_model\\coordinate_descent.py:475: ConvergenceWarning: Objective did not converge. You might want to increase the number of iterations. Duality gap: 810432.236328399, tolerance: 5141.821225000001\n",
      "  positive)\n",
      "D:\\CODING\\Anaconda\\lib\\site-packages\\sklearn\\linear_model\\coordinate_descent.py:475: ConvergenceWarning: Objective did not converge. You might want to increase the number of iterations. Duality gap: 1173214.5111807773, tolerance: 5863.15884375\n",
      "  positive)\n",
      "D:\\CODING\\Anaconda\\lib\\site-packages\\sklearn\\linear_model\\coordinate_descent.py:475: ConvergenceWarning: Objective did not converge. You might want to increase the number of iterations. Duality gap: 675845.4171800865, tolerance: 4314.314725\n",
      "  positive)\n",
      "D:\\CODING\\Anaconda\\lib\\site-packages\\sklearn\\linear_model\\coordinate_descent.py:475: ConvergenceWarning: Objective did not converge. You might want to increase the number of iterations. Duality gap: 698151.3240792456, tolerance: 5141.821225000001\n",
      "  positive)\n",
      "D:\\CODING\\Anaconda\\lib\\site-packages\\sklearn\\linear_model\\coordinate_descent.py:475: ConvergenceWarning: Objective did not converge. You might want to increase the number of iterations. Duality gap: 1101439.1937878204, tolerance: 5863.15884375\n",
      "  positive)\n",
      "D:\\CODING\\Anaconda\\lib\\site-packages\\sklearn\\linear_model\\coordinate_descent.py:475: ConvergenceWarning: Objective did not converge. You might want to increase the number of iterations. Duality gap: 620516.0725070956, tolerance: 4314.314725\n",
      "  positive)\n",
      "D:\\CODING\\Anaconda\\lib\\site-packages\\sklearn\\linear_model\\coordinate_descent.py:475: ConvergenceWarning: Objective did not converge. You might want to increase the number of iterations. Duality gap: 799205.4950260976, tolerance: 5141.821225000001\n",
      "  positive)\n",
      "D:\\CODING\\Anaconda\\lib\\site-packages\\sklearn\\linear_model\\coordinate_descent.py:475: ConvergenceWarning: Objective did not converge. You might want to increase the number of iterations. Duality gap: 1166652.557242086, tolerance: 5863.15884375\n",
      "  positive)\n",
      "D:\\CODING\\Anaconda\\lib\\site-packages\\sklearn\\linear_model\\coordinate_descent.py:475: ConvergenceWarning: Objective did not converge. You might want to increase the number of iterations. Duality gap: 669845.6179859706, tolerance: 4314.314725\n",
      "  positive)\n",
      "D:\\CODING\\Anaconda\\lib\\site-packages\\sklearn\\linear_model\\coordinate_descent.py:475: ConvergenceWarning: Objective did not converge. You might want to increase the number of iterations. Duality gap: 788391.4324709007, tolerance: 5141.821225000001\n",
      "  positive)\n",
      "D:\\CODING\\Anaconda\\lib\\site-packages\\sklearn\\linear_model\\coordinate_descent.py:475: ConvergenceWarning: Objective did not converge. You might want to increase the number of iterations. Duality gap: 1159992.9126467858, tolerance: 5863.15884375\n",
      "  positive)\n",
      "D:\\CODING\\Anaconda\\lib\\site-packages\\sklearn\\linear_model\\coordinate_descent.py:475: ConvergenceWarning: Objective did not converge. You might want to increase the number of iterations. Duality gap: 664508.3833682545, tolerance: 4314.314725\n",
      "  positive)\n",
      "D:\\CODING\\Anaconda\\lib\\site-packages\\sklearn\\linear_model\\coordinate_descent.py:475: ConvergenceWarning: Objective did not converge. You might want to increase the number of iterations. Duality gap: 755196.8259616968, tolerance: 5141.821225000001\n",
      "  positive)\n",
      "D:\\CODING\\Anaconda\\lib\\site-packages\\sklearn\\linear_model\\coordinate_descent.py:475: ConvergenceWarning: Objective did not converge. You might want to increase the number of iterations. Duality gap: 1139140.1218292937, tolerance: 5863.15884375\n",
      "  positive)\n",
      "D:\\CODING\\Anaconda\\lib\\site-packages\\sklearn\\linear_model\\coordinate_descent.py:475: ConvergenceWarning: Objective did not converge. You might want to increase the number of iterations. Duality gap: 648149.0540362314, tolerance: 4314.314725\n",
      "  positive)\n",
      "D:\\CODING\\Anaconda\\lib\\site-packages\\sklearn\\linear_model\\coordinate_descent.py:475: ConvergenceWarning: Objective did not converge. You might want to increase the number of iterations. Duality gap: 732417.5624804862, tolerance: 5141.821225000001\n",
      "  positive)\n",
      "D:\\CODING\\Anaconda\\lib\\site-packages\\sklearn\\linear_model\\coordinate_descent.py:475: ConvergenceWarning: Objective did not converge. You might want to increase the number of iterations. Duality gap: 1124458.8942533399, tolerance: 5863.15884375\n",
      "  positive)\n",
      "D:\\CODING\\Anaconda\\lib\\site-packages\\sklearn\\linear_model\\coordinate_descent.py:475: ConvergenceWarning: Objective did not converge. You might want to increase the number of iterations. Duality gap: 636942.8771572353, tolerance: 4314.314725\n",
      "  positive)\n",
      "D:\\CODING\\Anaconda\\lib\\site-packages\\sklearn\\linear_model\\coordinate_descent.py:475: ConvergenceWarning: Objective did not converge. You might want to increase the number of iterations. Duality gap: 709096.6582101004, tolerance: 5141.821225000001\n",
      "  positive)\n",
      "D:\\CODING\\Anaconda\\lib\\site-packages\\sklearn\\linear_model\\coordinate_descent.py:475: ConvergenceWarning: Objective did not converge. You might want to increase the number of iterations. Duality gap: 1109101.8488749322, tolerance: 5863.15884375\n",
      "  positive)\n"
     ]
    },
    {
     "name": "stderr",
     "output_type": "stream",
     "text": [
      "D:\\CODING\\Anaconda\\lib\\site-packages\\sklearn\\linear_model\\coordinate_descent.py:475: ConvergenceWarning: Objective did not converge. You might want to increase the number of iterations. Duality gap: 625486.6860329506, tolerance: 4314.314725\n",
      "  positive)\n",
      "D:\\CODING\\Anaconda\\lib\\site-packages\\sklearn\\linear_model\\coordinate_descent.py:475: ConvergenceWarning: Objective did not converge. You might want to increase the number of iterations. Duality gap: 697226.9142358679, tolerance: 5141.821225000001\n",
      "  positive)\n",
      "D:\\CODING\\Anaconda\\lib\\site-packages\\sklearn\\linear_model\\coordinate_descent.py:475: ConvergenceWarning: Objective did not converge. You might want to increase the number of iterations. Duality gap: 1101154.5143733479, tolerance: 5863.15884375\n",
      "  positive)\n",
      "D:\\CODING\\Anaconda\\lib\\site-packages\\sklearn\\linear_model\\coordinate_descent.py:475: ConvergenceWarning: Objective did not converge. You might want to increase the number of iterations. Duality gap: 619662.015743998, tolerance: 4314.314725\n",
      "  positive)\n",
      "D:\\CODING\\Anaconda\\lib\\site-packages\\sklearn\\linear_model\\coordinate_descent.py:475: ConvergenceWarning: Objective did not converge. You might want to increase the number of iterations. Duality gap: 2391403.200395497, tolerance: 5141.821225000001\n",
      "  positive)\n",
      "D:\\CODING\\Anaconda\\lib\\site-packages\\sklearn\\linear_model\\coordinate_descent.py:475: ConvergenceWarning: Objective did not converge. You might want to increase the number of iterations. Duality gap: 1858010.3935492078, tolerance: 5863.15884375\n",
      "  positive)\n",
      "D:\\CODING\\Anaconda\\lib\\site-packages\\sklearn\\linear_model\\coordinate_descent.py:475: ConvergenceWarning: Objective did not converge. You might want to increase the number of iterations. Duality gap: 1660614.169418696, tolerance: 4314.314725\n",
      "  positive)\n",
      "D:\\CODING\\Anaconda\\lib\\site-packages\\sklearn\\linear_model\\coordinate_descent.py:475: ConvergenceWarning: Objective did not converge. You might want to increase the number of iterations. Duality gap: 2328479.6665710653, tolerance: 5141.821225000001\n",
      "  positive)\n",
      "D:\\CODING\\Anaconda\\lib\\site-packages\\sklearn\\linear_model\\coordinate_descent.py:475: ConvergenceWarning: Objective did not converge. You might want to increase the number of iterations. Duality gap: 1832134.0737771192, tolerance: 5863.15884375\n",
      "  positive)\n",
      "D:\\CODING\\Anaconda\\lib\\site-packages\\sklearn\\linear_model\\coordinate_descent.py:475: ConvergenceWarning: Objective did not converge. You might want to increase the number of iterations. Duality gap: 1617166.058908406, tolerance: 4314.314725\n",
      "  positive)\n",
      "D:\\CODING\\Anaconda\\lib\\site-packages\\sklearn\\linear_model\\coordinate_descent.py:475: ConvergenceWarning: Objective did not converge. You might want to increase the number of iterations. Duality gap: 2102042.0245865067, tolerance: 5141.821225000001\n",
      "  positive)\n",
      "D:\\CODING\\Anaconda\\lib\\site-packages\\sklearn\\linear_model\\coordinate_descent.py:475: ConvergenceWarning: Objective did not converge. You might want to increase the number of iterations. Duality gap: 1745335.663582521, tolerance: 5863.15884375\n",
      "  positive)\n",
      "D:\\CODING\\Anaconda\\lib\\site-packages\\sklearn\\linear_model\\coordinate_descent.py:475: ConvergenceWarning: Objective did not converge. You might want to increase the number of iterations. Duality gap: 1460826.9323127717, tolerance: 4314.314725\n",
      "  positive)\n",
      "D:\\CODING\\Anaconda\\lib\\site-packages\\sklearn\\linear_model\\coordinate_descent.py:475: ConvergenceWarning: Objective did not converge. You might want to increase the number of iterations. Duality gap: 1888676.3266970525, tolerance: 5141.821225000001\n",
      "  positive)\n",
      "D:\\CODING\\Anaconda\\lib\\site-packages\\sklearn\\linear_model\\coordinate_descent.py:475: ConvergenceWarning: Objective did not converge. You might want to increase the number of iterations. Duality gap: 1659472.4730063016, tolerance: 5863.15884375\n",
      "  positive)\n",
      "D:\\CODING\\Anaconda\\lib\\site-packages\\sklearn\\linear_model\\coordinate_descent.py:475: ConvergenceWarning: Objective did not converge. You might want to increase the number of iterations. Duality gap: 1303798.4022464913, tolerance: 4314.314725\n",
      "  positive)\n",
      "D:\\CODING\\Anaconda\\lib\\site-packages\\sklearn\\linear_model\\coordinate_descent.py:475: ConvergenceWarning: Objective did not converge. You might want to increase the number of iterations. Duality gap: 1413721.7900610573, tolerance: 5141.821225000001\n",
      "  positive)\n",
      "D:\\CODING\\Anaconda\\lib\\site-packages\\sklearn\\linear_model\\coordinate_descent.py:475: ConvergenceWarning: Objective did not converge. You might want to increase the number of iterations. Duality gap: 1467940.7799617634, tolerance: 5863.15884375\n",
      "  positive)\n",
      "D:\\CODING\\Anaconda\\lib\\site-packages\\sklearn\\linear_model\\coordinate_descent.py:475: ConvergenceWarning: Objective did not converge. You might want to increase the number of iterations. Duality gap: 998348.215159242, tolerance: 4314.314725\n",
      "  positive)\n",
      "D:\\CODING\\Anaconda\\lib\\site-packages\\sklearn\\linear_model\\coordinate_descent.py:475: ConvergenceWarning: Objective did not converge. You might want to increase the number of iterations. Duality gap: 706772.4350508408, tolerance: 5141.821225000001\n",
      "  positive)\n",
      "D:\\CODING\\Anaconda\\lib\\site-packages\\sklearn\\linear_model\\coordinate_descent.py:475: ConvergenceWarning: Objective did not converge. You might want to increase the number of iterations. Duality gap: 1104097.2875974001, tolerance: 5863.15884375\n",
      "  positive)\n",
      "D:\\CODING\\Anaconda\\lib\\site-packages\\sklearn\\linear_model\\coordinate_descent.py:475: ConvergenceWarning: Objective did not converge. You might want to increase the number of iterations. Duality gap: 628874.3587937006, tolerance: 4314.314725\n",
      "  positive)\n",
      "D:\\CODING\\Anaconda\\lib\\site-packages\\sklearn\\linear_model\\coordinate_descent.py:475: ConvergenceWarning: Objective did not converge. You might want to increase the number of iterations. Duality gap: 1577833.3230274057, tolerance: 5141.821225000001\n",
      "  positive)\n",
      "D:\\CODING\\Anaconda\\lib\\site-packages\\sklearn\\linear_model\\coordinate_descent.py:475: ConvergenceWarning: Objective did not converge. You might want to increase the number of iterations. Duality gap: 456916.2267677414, tolerance: 5863.15884375\n",
      "  positive)\n",
      "D:\\CODING\\Anaconda\\lib\\site-packages\\sklearn\\linear_model\\coordinate_descent.py:475: ConvergenceWarning: Objective did not converge. You might want to increase the number of iterations. Duality gap: 568688.9653278906, tolerance: 4314.314725\n",
      "  positive)\n",
      "D:\\CODING\\Anaconda\\lib\\site-packages\\sklearn\\linear_model\\coordinate_descent.py:475: ConvergenceWarning: Objective did not converge. You might want to increase the number of iterations. Duality gap: 1119568.177953565, tolerance: 5141.821225000001\n",
      "  positive)\n",
      "D:\\CODING\\Anaconda\\lib\\site-packages\\sklearn\\linear_model\\coordinate_descent.py:475: ConvergenceWarning: Objective did not converge. You might want to increase the number of iterations. Duality gap: 419418.08867655974, tolerance: 5863.15884375\n",
      "  positive)\n",
      "D:\\CODING\\Anaconda\\lib\\site-packages\\sklearn\\linear_model\\coordinate_descent.py:475: ConvergenceWarning: Objective did not converge. You might want to increase the number of iterations. Duality gap: 539027.8174358583, tolerance: 4314.314725\n",
      "  positive)\n",
      "D:\\CODING\\Anaconda\\lib\\site-packages\\sklearn\\linear_model\\coordinate_descent.py:475: ConvergenceWarning: Objective did not converge. You might want to increase the number of iterations. Duality gap: 1245330.9291730786, tolerance: 5141.821225000001\n",
      "  positive)\n",
      "D:\\CODING\\Anaconda\\lib\\site-packages\\sklearn\\linear_model\\coordinate_descent.py:475: ConvergenceWarning: Objective did not converge. You might want to increase the number of iterations. Duality gap: 948089.2940942722, tolerance: 5863.15884375\n",
      "  positive)\n",
      "D:\\CODING\\Anaconda\\lib\\site-packages\\sklearn\\linear_model\\coordinate_descent.py:475: ConvergenceWarning: Objective did not converge. You might want to increase the number of iterations. Duality gap: 1107775.3066811105, tolerance: 4314.314725\n",
      "  positive)\n",
      "D:\\CODING\\Anaconda\\lib\\site-packages\\sklearn\\linear_model\\coordinate_descent.py:475: ConvergenceWarning: Objective did not converge. You might want to increase the number of iterations. Duality gap: 1263206.2733085447, tolerance: 5141.821225000001\n",
      "  positive)\n",
      "D:\\CODING\\Anaconda\\lib\\site-packages\\sklearn\\linear_model\\coordinate_descent.py:475: ConvergenceWarning: Objective did not converge. You might want to increase the number of iterations. Duality gap: 1408258.4002579853, tolerance: 5863.15884375\n",
      "  positive)\n",
      "D:\\CODING\\Anaconda\\lib\\site-packages\\sklearn\\linear_model\\coordinate_descent.py:475: ConvergenceWarning: Objective did not converge. You might want to increase the number of iterations. Duality gap: 1435473.3698683744, tolerance: 4314.314725\n",
      "  positive)\n",
      "D:\\CODING\\Anaconda\\lib\\site-packages\\sklearn\\linear_model\\coordinate_descent.py:475: ConvergenceWarning: Objective did not converge. You might want to increase the number of iterations. Duality gap: 899189.1177396965, tolerance: 5141.821225000001\n",
      "  positive)\n",
      "D:\\CODING\\Anaconda\\lib\\site-packages\\sklearn\\linear_model\\coordinate_descent.py:475: ConvergenceWarning: Objective did not converge. You might want to increase the number of iterations. Duality gap: 1587448.915033303, tolerance: 5863.15884375\n",
      "  positive)\n",
      "D:\\CODING\\Anaconda\\lib\\site-packages\\sklearn\\linear_model\\coordinate_descent.py:475: ConvergenceWarning: Objective did not converge. You might want to increase the number of iterations. Duality gap: 1365346.9435241614, tolerance: 4314.314725\n",
      "  positive)\n",
      "D:\\CODING\\Anaconda\\lib\\site-packages\\sklearn\\linear_model\\coordinate_descent.py:475: ConvergenceWarning: Objective did not converge. You might want to increase the number of iterations. Duality gap: 728537.0533860055, tolerance: 5141.821225000001\n",
      "  positive)\n",
      "D:\\CODING\\Anaconda\\lib\\site-packages\\sklearn\\linear_model\\coordinate_descent.py:475: ConvergenceWarning: Objective did not converge. You might want to increase the number of iterations. Duality gap: 1112396.5432044067, tolerance: 5863.15884375\n",
      "  positive)\n",
      "D:\\CODING\\Anaconda\\lib\\site-packages\\sklearn\\linear_model\\coordinate_descent.py:475: ConvergenceWarning: Objective did not converge. You might want to increase the number of iterations. Duality gap: 661983.5928206256, tolerance: 4314.314725\n",
      "  positive)\n",
      "D:\\CODING\\Anaconda\\lib\\site-packages\\sklearn\\linear_model\\coordinate_descent.py:475: ConvergenceWarning: Objective did not converge. You might want to increase the number of iterations. Duality gap: 81251.96266416134, tolerance: 5863.15884375\n",
      "  positive)\n",
      "D:\\CODING\\Anaconda\\lib\\site-packages\\sklearn\\linear_model\\coordinate_descent.py:475: ConvergenceWarning: Objective did not converge. You might want to increase the number of iterations. Duality gap: 1488223.3057136945, tolerance: 7700.075648958335\n",
      "  positive)\n"
     ]
    },
    {
     "data": {
      "text/plain": [
       "GridSearchCV(cv='warn', error_score='raise-deprecating',\n",
       "             estimator=ElasticNet(alpha=1.0, copy_X=True, fit_intercept=True,\n",
       "                                  l1_ratio=0.5, max_iter=1000, normalize=False,\n",
       "                                  positive=False, precompute=False,\n",
       "                                  random_state=None, selection='cyclic',\n",
       "                                  tol=0.0001, warm_start=False),\n",
       "             iid='warn', n_jobs=None,\n",
       "             param_grid={'alpha': [0.001, 0.1, 0.01, 1, 5, 100],\n",
       "                         'l1_ratio': [0.1, 0.2, 0.5, 0.7, 0.9, 1]},\n",
       "             pre_dispatch='2*n_jobs', refit=True, return_train_score=False,\n",
       "             scoring='neg_mean_squared_error', verbose=0)"
      ]
     },
     "execution_count": 250,
     "metadata": {},
     "output_type": "execute_result"
    }
   ],
   "source": [
    "gridmodel.fit(X_train,y_train)"
   ]
  },
  {
   "cell_type": "code",
   "execution_count": 254,
   "metadata": {},
   "outputs": [],
   "source": [
    "gp = gridmodel.predict(X_test)"
   ]
  },
  {
   "cell_type": "code",
   "execution_count": 255,
   "metadata": {},
   "outputs": [
    {
     "data": {
      "text/plain": [
       "488.2012348629484"
      ]
     },
     "execution_count": 255,
     "metadata": {},
     "output_type": "execute_result"
    }
   ],
   "source": [
    "mean_absolute_error(y_test,gp)"
   ]
  },
  {
   "cell_type": "code",
   "execution_count": 256,
   "metadata": {},
   "outputs": [
    {
     "data": {
      "text/plain": [
       "{'alpha': 0.001, 'l1_ratio': 1}"
      ]
     },
     "execution_count": 256,
     "metadata": {},
     "output_type": "execute_result"
    }
   ],
   "source": [
    "gridmodel.best_params_"
   ]
  },
  {
   "cell_type": "code",
   "execution_count": 257,
   "metadata": {},
   "outputs": [
    {
     "data": {
      "text/plain": [
       "715.4542670690769"
      ]
     },
     "execution_count": 257,
     "metadata": {},
     "output_type": "execute_result"
    }
   ],
   "source": [
    "np.sqrt(mean_squared_error(y_test,gp))"
   ]
  },
  {
   "cell_type": "code",
   "execution_count": 265,
   "metadata": {},
   "outputs": [
    {
     "data": {
      "text/plain": [
       "array([930.17954301])"
      ]
     },
     "execution_count": 265,
     "metadata": {},
     "output_type": "execute_result"
    }
   ],
   "source": [
    "gridmodel.predict([[97,50,40,7,60,4,0,30]])"
   ]
  },
  {
   "cell_type": "code",
   "execution_count": null,
   "metadata": {},
   "outputs": [],
   "source": []
  },
  {
   "cell_type": "code",
   "execution_count": null,
   "metadata": {},
   "outputs": [],
   "source": []
  },
  {
   "cell_type": "code",
   "execution_count": null,
   "metadata": {},
   "outputs": [],
   "source": []
  },
  {
   "cell_type": "code",
   "execution_count": null,
   "metadata": {},
   "outputs": [],
   "source": []
  },
  {
   "cell_type": "code",
   "execution_count": 156,
   "metadata": {},
   "outputs": [],
   "source": [
    "from sklearn.svm import SVR"
   ]
  },
  {
   "cell_type": "code",
   "execution_count": 157,
   "metadata": {},
   "outputs": [],
   "source": [
    "svmodel = SVR()"
   ]
  },
  {
   "cell_type": "code",
   "execution_count": 160,
   "metadata": {},
   "outputs": [],
   "source": [
    "X_train, X_test, y_train, y_test = train_test_split(X, y, test_size=0.2, random_state=101)"
   ]
  },
  {
   "cell_type": "code",
   "execution_count": 162,
   "metadata": {},
   "outputs": [
    {
     "name": "stderr",
     "output_type": "stream",
     "text": [
      "D:\\CODING\\Anaconda\\lib\\site-packages\\sklearn\\svm\\base.py:193: FutureWarning: The default value of gamma will change from 'auto' to 'scale' in version 0.22 to account better for unscaled features. Set gamma explicitly to 'auto' or 'scale' to avoid this warning.\n",
      "  \"avoid this warning.\", FutureWarning)\n"
     ]
    },
    {
     "data": {
      "text/plain": [
       "SVR(C=1.0, cache_size=200, coef0=0.0, degree=3, epsilon=0.1,\n",
       "    gamma='auto_deprecated', kernel='rbf', max_iter=-1, shrinking=True,\n",
       "    tol=0.001, verbose=False)"
      ]
     },
     "execution_count": 162,
     "metadata": {},
     "output_type": "execute_result"
    }
   ],
   "source": [
    "svmodel.fit(X_train,y_train)"
   ]
  },
  {
   "cell_type": "code",
   "execution_count": 166,
   "metadata": {},
   "outputs": [],
   "source": [
    "svpred = svmodel.predict(X_test)"
   ]
  },
  {
   "cell_type": "code",
   "execution_count": 169,
   "metadata": {},
   "outputs": [
    {
     "data": {
      "text/plain": [
       "1185.6666656426312"
      ]
     },
     "execution_count": 169,
     "metadata": {},
     "output_type": "execute_result"
    }
   ],
   "source": [
    "mean_absolute_error(y_test,svpred)"
   ]
  },
  {
   "cell_type": "code",
   "execution_count": 170,
   "metadata": {},
   "outputs": [
    {
     "data": {
      "text/plain": [
       "1887.337867956509"
      ]
     },
     "execution_count": 170,
     "metadata": {},
     "output_type": "execute_result"
    }
   ],
   "source": [
    "np.sqrt(mean_squared_error(y_test,svpred))"
   ]
  },
  {
   "cell_type": "code",
   "execution_count": null,
   "metadata": {},
   "outputs": [],
   "source": []
  },
  {
   "cell_type": "code",
   "execution_count": 64,
   "metadata": {},
   "outputs": [],
   "source": [
    "from sklearn.tree import DecisionTreeRegressor"
   ]
  },
  {
   "cell_type": "code",
   "execution_count": null,
   "metadata": {},
   "outputs": [],
   "source": []
  },
  {
   "cell_type": "markdown",
   "metadata": {},
   "source": [
    "decisiontree_model = DecisionTreeRegressor(max_depth = 3)"
   ]
  },
  {
   "cell_type": "code",
   "execution_count": 82,
   "metadata": {},
   "outputs": [
    {
     "data": {
      "text/plain": [
       "DecisionTreeRegressor(criterion='mse', max_depth=None, max_features=None,\n",
       "                      max_leaf_nodes=None, min_impurity_decrease=0.0,\n",
       "                      min_impurity_split=None, min_samples_leaf=1,\n",
       "                      min_samples_split=2, min_weight_fraction_leaf=0.0,\n",
       "                      presort=False, random_state=None, splitter='best')"
      ]
     },
     "execution_count": 82,
     "metadata": {},
     "output_type": "execute_result"
    }
   ],
   "source": [
    "decisiontree_model.fit(X_train,y_train)"
   ]
  },
  {
   "cell_type": "code",
   "execution_count": 83,
   "metadata": {},
   "outputs": [],
   "source": [
    "decisionpredict = decisiontree_model.predict(X_test)"
   ]
  },
  {
   "cell_type": "code",
   "execution_count": 84,
   "metadata": {},
   "outputs": [
    {
     "data": {
      "text/plain": [
       "20    2470.5\n",
       "24    2023.5\n",
       "7     1022.0\n",
       "18    6933.0\n",
       "2     2547.0\n",
       "27    2475.0\n",
       "Name: Catering_expenditure, dtype: float64"
      ]
     },
     "execution_count": 84,
     "metadata": {},
     "output_type": "execute_result"
    }
   ],
   "source": [
    "y_test"
   ]
  },
  {
   "cell_type": "code",
   "execution_count": 85,
   "metadata": {},
   "outputs": [
    {
     "data": {
      "text/plain": [
       "array([1655. , 1084. , 1174. , 4954.5, 6433.5, 2259. ])"
      ]
     },
     "execution_count": 85,
     "metadata": {},
     "output_type": "execute_result"
    }
   ],
   "source": [
    "decisionpredict"
   ]
  },
  {
   "cell_type": "code",
   "execution_count": 86,
   "metadata": {},
   "outputs": [
    {
     "data": {
      "text/plain": [
       "1331.3333333333333"
      ]
     },
     "execution_count": 86,
     "metadata": {},
     "output_type": "execute_result"
    }
   ],
   "source": [
    "mean_absolute_error(y_test,decisionpredict)"
   ]
  },
  {
   "cell_type": "code",
   "execution_count": 87,
   "metadata": {},
   "outputs": [
    {
     "data": {
      "text/plain": [
       "1854.5801411640318"
      ]
     },
     "execution_count": 87,
     "metadata": {},
     "output_type": "execute_result"
    }
   ],
   "source": [
    "np.sqrt(mean_squared_error(y_test,decisionpredict))"
   ]
  },
  {
   "cell_type": "code",
   "execution_count": 88,
   "metadata": {},
   "outputs": [],
   "source": [
    "from sklearn.tree import plot_tree"
   ]
  },
  {
   "cell_type": "code",
   "execution_count": 89,
   "metadata": {},
   "outputs": [
    {
     "data": {
      "image/png": "[encoded data removed]",
      "text/plain": [
       "<Figure size 2400x1600 with 1 Axes>"
      ]
     },
     "metadata": {
      "needs_background": "light"
     },
     "output_type": "display_data"
    }
   ],
   "source": [
    "plt.figure(figsize=(12,8),dpi=200)\n",
    "plot_tree(decisiontree_model);"
   ]
  },
  {
   "cell_type": "code",
   "execution_count": null,
   "metadata": {},
   "outputs": [],
   "source": []
  },
  {
   "cell_type": "code",
   "execution_count": null,
   "metadata": {},
   "outputs": [],
   "source": []
  },
  {
   "cell_type": "code",
   "execution_count": null,
   "metadata": {},
   "outputs": [],
   "source": []
  },
  {
   "cell_type": "code",
   "execution_count": null,
   "metadata": {},
   "outputs": [],
   "source": []
  }
 ],
 "metadata": {
  "kernelspec": {
   "display_name": "Python 3",
   "language": "python",
   "name": "python3"
  },
  "language_info": {
   "codemirror_mode": {
    "name": "ipython",
    "version": 3
   },
   "file_extension": ".py",
   "mimetype": "text/x-python",
   "name": "python",
   "nbconvert_exporter": "python",
   "pygments_lexer": "ipython3",
   "version": "3.7.4"
  }
 },
 "nbformat": 4,
 "nbformat_minor": 2
}
